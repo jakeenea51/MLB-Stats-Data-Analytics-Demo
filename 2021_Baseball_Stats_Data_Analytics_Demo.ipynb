{
  "nbformat": 4,
  "nbformat_minor": 0,
  "metadata": {
    "colab": {
      "name": "2021 Baseball Stats - Data Analytics Demo",
      "provenance": [],
      "collapsed_sections": [
        "qvTmneKMiAJL"
      ]
    },
    "kernelspec": {
      "name": "python3",
      "display_name": "Python 3"
    },
    "language_info": {
      "name": "python"
    }
  },
  "cells": [
    {
      "cell_type": "markdown",
      "metadata": {
        "id": "pbnMBbpHjYBu"
      },
      "source": [
        "#2021 Baseball Stats\n",
        "\n",
        "Instructions:\n",
        "\n",
        "- Download the batter and pitcher stat CSV files (split and complete)\n",
        "\n",
        "- Upload the downloaded CSV files to the session storage\n",
        "\n"
      ]
    },
    {
      "cell_type": "markdown",
      "metadata": {
        "id": "pOj3MjBJU7rv"
      },
      "source": [
        "#Imports and startup"
      ]
    },
    {
      "cell_type": "code",
      "metadata": {
        "id": "wPE8plb-jTqd"
      },
      "source": [
        "# Necessary imports\n",
        "\n",
        "import math\n",
        "import pandas as pd\n",
        "import matplotlib\n",
        "import matplotlib.pyplot as plt\n",
        "from matplotlib.pyplot import figure\n",
        "\n",
        "from datetime import datetime\n",
        "import plotly.graph_objects as go\n",
        "import plotly.express as px\n",
        "import numpy as np\n",
        "from ipywidgets import interactive\n",
        "import ipywidgets as widgets\n",
        "from IPython.display import display, clear_output\n",
        "from ipywidgets import interact, Layout\n",
        "from bokeh.io import output_notebook\n",
        "from prettytable import PrettyTable\n",
        "import locale\n",
        "import warnings\n",
        "\n",
        "warnings.filterwarnings('ignore')\n",
        "\n",
        "# For number formatting \n",
        "locale.setlocale(locale.LC_ALL, '') \n",
        "\n",
        "# Call once to configure Bokeh to display plots inline in the notebook\n",
        "output_notebook()\n",
        "\n",
        "# Style of plots\n",
        "matplotlib.style.use('seaborn')\n",
        "\n",
        "#quick startup\n",
        "btc = pd.read_csv('MLB-stats-2021-b.csv') #complete season for batters\n",
        "bts = pd.read_csv('MLB-stats-2021-b-split.csv') #split season (played for different teams) for batters\n",
        "ptc = pd.read_csv('MLB-stats-2021-p.csv') #complete season for pitchers\n",
        "pts = pd.read_csv('MLB-stats-2021-p-split.csv') #split season for pitchers \n",
        "\n",
        "#store player index values\n",
        "bi = pd.Series(btc['Name'], index = range(0,1508)) #batter index\n",
        "pi = pd.Series(ptc['Name'], index = range(0,909)) #pitcher index\n",
        "\n",
        "#split pitchers into starters and relievers \n",
        "#(qualified as a starter if they started in over half of their games)\n",
        "startersIndex = []\n",
        "relieversIndex = []\n",
        "index = 0\n",
        "for player in pi:\n",
        "  pitcher =  ptc.loc[index]\n",
        "  gs = pitcher.at['GS']\n",
        "  g = pitcher.at['G']\n",
        "  if(g/gs < 2):\n",
        "    startersIndex.append(index)\n",
        "  else:\n",
        "    relieversIndex.append(index)\n",
        "  index = index+1\n",
        "starters = ptc.loc[startersIndex]\n",
        "relievers = ptc.loc[relieversIndex]"
      ],
      "execution_count": 1,
      "outputs": []
    },
    {
      "cell_type": "markdown",
      "metadata": {
        "id": "K0LPMlZxZi-z"
      },
      "source": [
        "#Batter Functions"
      ]
    },
    {
      "cell_type": "markdown",
      "metadata": {
        "id": "Qd-9ni8GV4Ob"
      },
      "source": [
        "Print out all batters (complete stats)"
      ]
    },
    {
      "cell_type": "code",
      "metadata": {
        "id": "NEYiGCTFH_TZ"
      },
      "source": [
        "display(btc)"
      ],
      "execution_count": null,
      "outputs": []
    },
    {
      "cell_type": "markdown",
      "metadata": {
        "id": "2zSfRfLjVzgm"
      },
      "source": [
        "Display a team's stats individually"
      ]
    },
    {
      "cell_type": "code",
      "metadata": {
        "id": "jm5cYR6WnqUM"
      },
      "source": [
        "nyyB = bts.loc[bts['Team'] == 'NYY']\n",
        "nyyP = pt.loc[pt['Team'] == 'NYY']\n",
        "nyyB"
      ],
      "execution_count": null,
      "outputs": []
    },
    {
      "cell_type": "markdown",
      "metadata": {
        "id": "ruUpf-8NVjsi"
      },
      "source": [
        "\n",
        "Sort players by specific stat"
      ]
    },
    {
      "cell_type": "code",
      "metadata": {
        "id": "ZgTGM8YttOvk"
      },
      "source": [
        "bt_sort_H = btc.sort_values(by='H', ascending=False)\n",
        "bt_sort_H"
      ],
      "execution_count": null,
      "outputs": []
    },
    {
      "cell_type": "markdown",
      "metadata": {
        "id": "qyVVZQrNVafp"
      },
      "source": [
        "Dropdown menu of stats to display with option for descending or ascending"
      ]
    },
    {
      "cell_type": "code",
      "metadata": {
        "id": "4GNoCWieuT5Y"
      },
      "source": [
        "def sortByStat(stat, direction):\n",
        "  if direction == 'Ascending':\n",
        "    directionB = False\n",
        "  else:\n",
        "    directionB = True\n",
        "  return btc.sort_values(by= stat, ascending= directionB)\n",
        "\n",
        "interact(sortByStat, stat = list(btc.columns), direction = ['Ascending', 'Descending'])"
      ],
      "execution_count": null,
      "outputs": []
    },
    {
      "cell_type": "markdown",
      "metadata": {
        "id": "uTsJS1ubVujJ"
      },
      "source": [
        "Filters out players by a minimum number of at bats"
      ]
    },
    {
      "cell_type": "code",
      "metadata": {
        "id": "Nqlfr0xEpE73"
      },
      "source": [
        "bt_qual = btc.loc[btc['AB'] > 100]\n",
        "\n",
        "def sortByStat_100ab(stat, direction):\n",
        "  if direction == 'Ascending':\n",
        "    directionB = False\n",
        "  else:\n",
        "    directionB = True\n",
        "  if stat == 'Name' or stat == 'Team' or stat == 'G' or stat == 'AB':\n",
        "    return btc.sort_values(by= stat, ascending= directionB)\n",
        "  else:\n",
        "    return bt_qual.sort_values(by= stat, ascending= directionB)\n",
        "\n",
        "interact(sortByStat_100ab, stat = list(btc.columns), direction = ['Ascending', 'Descending'])"
      ],
      "execution_count": null,
      "outputs": []
    },
    {
      "cell_type": "markdown",
      "metadata": {
        "id": "tyEbA15bWaUr"
      },
      "source": [
        "Bar chart for top batters for a certain stat"
      ]
    },
    {
      "cell_type": "code",
      "metadata": {
        "id": "RODeChH7vvb3"
      },
      "source": [
        "def bar_plotB(stat, direction):\n",
        "  bt_sorted = btc\n",
        "  bt_qual = btc.loc[btc['AB'] > 100]\n",
        "  if direction == 'Ascending':\n",
        "    directionB = False\n",
        "  else:\n",
        "    directionB = True\n",
        "  bt_sorted = bt_qual.sort_values(by= stat, ascending= directionB)\n",
        "  fig = px.bar(bt_sorted.head(100), x='Name', y=stat, width=1300, height=600)\n",
        "  fig.update_layout(title_text=\"Top Players in Hitting Stats in MLB (2021)\")\n",
        "  fig.update_xaxes(rangeslider_visible=True)\n",
        "  fig.show()\n",
        "\n",
        "interact(bar_plotB, stat=list(bt_sorted.columns)[2:], direction = ['Ascending', 'Descending'])"
      ],
      "execution_count": null,
      "outputs": []
    },
    {
      "cell_type": "markdown",
      "metadata": {
        "id": "Nad074rjWj_H"
      },
      "source": [
        "Search for player by name"
      ]
    },
    {
      "cell_type": "code",
      "metadata": {
        "id": "OkAhrleV9XUj"
      },
      "source": [
        "#exception handling for nonexistent players\n",
        "try:\n",
        "  search = input(\"Enter a player's full name to search for: \")\n",
        "  searchResult = btc.loc[btc['Name'] == search]\n",
        "  list(bi).index(search)\n",
        "  display(searchResult)\n",
        "except ValueError:\n",
        "  print('This player does not exist.')"
      ],
      "execution_count": null,
      "outputs": []
    },
    {
      "cell_type": "markdown",
      "metadata": {
        "id": "MTdvM2zUWnLN"
      },
      "source": [
        "Compare two players' stats"
      ]
    },
    {
      "cell_type": "code",
      "metadata": {
        "id": "ygmwxRs9oeEl"
      },
      "source": [
        "def compareTwo (player1, player2):\n",
        "  searchArray = [list(bi).index(player1), list(bi).index(player2)]\n",
        "  return btc.loc[searchArray]\n",
        "\n",
        "search1 = input(\"Enter a player's full name to search for: \")\n",
        "search2 = input(\"Enter another player's full name to search for: \")\n",
        "compareTwo(search1, search2)"
      ],
      "execution_count": null,
      "outputs": []
    },
    {
      "cell_type": "markdown",
      "metadata": {
        "id": "0OygHN1fZBA0"
      },
      "source": [
        "Search for player by name and a specific stat by abbreviation"
      ]
    },
    {
      "cell_type": "code",
      "metadata": {
        "id": "Fe1ogdGd9nJM"
      },
      "source": [
        "#exception handling for input of nonexistent player/stat\n",
        "try:\n",
        "  searchName = input(\"Enter a player's full name to search for: \")\n",
        "  searchStat = input(\"Enter a stat to view (use abbreviation): \")\n",
        "  print(round(btc.loc[list(bi).index(searchName)].at[searchStat], 3)) #rounds stats to 3 decimal places\n",
        "except ValueError:\n",
        "  print('This player does not exist.')\n",
        "except KeyError:\n",
        "  print('This stat does not exist.')"
      ],
      "execution_count": null,
      "outputs": []
    },
    {
      "cell_type": "markdown",
      "metadata": {
        "id": "YOylRQxniPNJ"
      },
      "source": [
        "Use stored stats to calculate other stats (HR/PA = home run percentage)"
      ]
    },
    {
      "cell_type": "code",
      "metadata": {
        "id": "IRuIZmQuhRo0"
      },
      "source": [
        "aaron_judge_hr = round(btc.loc[list(bi).index('Aaron Judge')].at['HR'], 3)\n",
        "aaron_judge_pa = round(btc.loc[list(bi).index('Aaron Judge')].at['PA'], 3)\n",
        "aaron_judge_hrpercent = round((aaron_judge_hr / aaron_judge_pa)*100, 3)\n",
        "aaron_judge_hrpercent"
      ],
      "execution_count": null,
      "outputs": []
    },
    {
      "cell_type": "markdown",
      "metadata": {
        "id": "qQaPZ_83l9pY"
      },
      "source": [
        "Method for finding all players' HR/PA"
      ]
    },
    {
      "cell_type": "code",
      "metadata": {
        "id": "RMe_mumJj1ha"
      },
      "source": [
        "def find_hrPercent():\n",
        "  hrPercent = []\n",
        "  for player in bi:\n",
        "    hr = btc.loc[list(bi).index(player)].at['HR']\n",
        "    pa = btc.loc[list(bi).index(player)].at['PA']\n",
        "    hrpa = round((hr / pa)*100, 3)\n",
        "    hrPercent.append(hrpa)\n",
        "  return hrPercent"
      ],
      "execution_count": 2,
      "outputs": []
    },
    {
      "cell_type": "markdown",
      "metadata": {
        "id": "NyvRGlyhs-u5"
      },
      "source": [
        "Add HR% to each player's profile in the DataFrame"
      ]
    },
    {
      "cell_type": "code",
      "metadata": {
        "id": "0LqN8Qb7s96m"
      },
      "source": [
        "#if statement helps prevent duplicate columns being created\n",
        "if(\"HR%\" not in btc.columns):\n",
        "  btc.insert(btc.columns.size, 'HR%', find_hrPercent(), True)\n",
        "btc"
      ],
      "execution_count": null,
      "outputs": []
    },
    {
      "cell_type": "markdown",
      "metadata": {
        "id": "RqDs3zdriceE"
      },
      "source": [
        "Display bar chart for top players for a calculated stat"
      ]
    },
    {
      "cell_type": "code",
      "metadata": {
        "id": "aLYi4DKSk-58"
      },
      "source": [
        "interact(bar_plotB, stat=list(btc.columns)[4:], direction = ['Ascending', 'Descending'])"
      ],
      "execution_count": null,
      "outputs": []
    },
    {
      "cell_type": "markdown",
      "metadata": {
        "id": "NZAdLJuE6N0w"
      },
      "source": [
        "Calculate overall stats of all players combined"
      ]
    },
    {
      "cell_type": "code",
      "metadata": {
        "id": "5Nhdrn-nnc8M"
      },
      "source": [
        "btc.describe()"
      ],
      "execution_count": null,
      "outputs": []
    },
    {
      "cell_type": "markdown",
      "metadata": {
        "id": "qvTmneKMiAJL"
      },
      "source": [
        "#Pitcher Functions"
      ]
    },
    {
      "cell_type": "markdown",
      "metadata": {
        "id": "aWvPFPAfueiq"
      },
      "source": [
        "Display pitchers"
      ]
    },
    {
      "cell_type": "code",
      "metadata": {
        "id": "s_f1dCaSuheL"
      },
      "source": [
        "display(ptc)"
      ],
      "execution_count": null,
      "outputs": []
    },
    {
      "cell_type": "markdown",
      "metadata": {
        "id": "3DKZHEfqmD6O"
      },
      "source": [
        "Bar chart for top STARTERS for a chosen stat"
      ]
    },
    {
      "cell_type": "code",
      "metadata": {
        "id": "OUGq7t8aiEey"
      },
      "source": [
        "def bar_plotStarters(stat, direction):\n",
        "  pt_sorted = starters\n",
        "  pt_qual = starters.loc[ptc['IP'] > 30]\n",
        "  if direction == 'Ascending':\n",
        "    directionB = False\n",
        "  else:\n",
        "    directionB = True\n",
        "  pt_sorted = pt_qual.sort_values(by= stat, ascending= directionB)\n",
        "  fig = px.bar(pt_sorted.head(100), x='Name', y=stat, width=1300, height=600)\n",
        "  fig.update_layout(title_text=\"Top Starters in Pitching Stats in MLB (2021)\")\n",
        "  fig.update_xaxes(rangeslider_visible=True)\n",
        "  fig.show()\n",
        "\n",
        "interact(bar_plotStarters, stat=list(pt_sorted.columns)[2:], direction = ['Ascending', 'Descending'])"
      ],
      "execution_count": null,
      "outputs": []
    },
    {
      "cell_type": "markdown",
      "metadata": {
        "id": "SlfxWoDdF3Aq"
      },
      "source": [
        "Bar chart for top RELIEVERS for a chosen stat"
      ]
    },
    {
      "cell_type": "code",
      "metadata": {
        "id": "w2yRQVJIF-xA"
      },
      "source": [
        "def bar_plotRelievers(stat, direction):\n",
        "  pt_sorted = relievers\n",
        "  pt_qual = relievers.loc[ptc['IP'] > 30]\n",
        "  if direction == 'Ascending':\n",
        "    directionB = False\n",
        "  else:\n",
        "    directionB = True\n",
        "  pt_sorted = pt_qual.sort_values(by= stat, ascending= directionB)\n",
        "  fig = px.bar(pt_sorted.head(100), x='Name', y=stat, width=1300, height=600)\n",
        "  fig.update_layout(title_text=\"Top Starters in Pitching Stats in MLB (2021)\")\n",
        "  fig.update_xaxes(rangeslider_visible=True)\n",
        "  fig.show()\n",
        "\n",
        "interact(bar_plotRelievers, stat=list(pt_sorted.columns)[2:], direction = ['Ascending', 'Descending'])"
      ],
      "execution_count": null,
      "outputs": []
    }
  ]
}